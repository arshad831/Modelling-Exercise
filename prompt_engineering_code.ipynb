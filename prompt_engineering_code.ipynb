{
  "nbformat": 4,
  "nbformat_minor": 0,
  "metadata": {
    "colab": {
      "provenance": [],
      "authorship_tag": "ABX9TyNz4v0/O64YvdmUktICEzjq",
      "include_colab_link": true
    },
    "kernelspec": {
      "name": "python3",
      "display_name": "Python 3"
    },
    "language_info": {
      "name": "python"
    }
  },
  "cells": [
    {
      "cell_type": "markdown",
      "metadata": {
        "id": "view-in-github",
        "colab_type": "text"
      },
      "source": [
        "<a href=\"https://colab.research.google.com/github/arshad831/Modelling-Exercise/blob/main/prompt_engineering_code.ipynb\" target=\"_parent\"><img src=\"https://colab.research.google.com/assets/colab-badge.svg\" alt=\"Open In Colab\"/></a>"
      ]
    },
    {
      "cell_type": "code",
      "source": [
        "menu_items = [\"Biryani\",\"Tea\",\"Coffee\",\"Burger\"]\n",
        "\n",
        "def menu():\n",
        "    print(\"Welcome to the menu selection program!\")\n",
        "    print(\"1. Display menu\")\n",
        "    print(\"2. Add item to menu\")\n",
        "    print(\"3. Remove item from menu\")\n",
        "    print(\"4. Exit\")\n",
        "    choice = int(input(\"Enter your choice: \"))\n",
        "    return choice\n",
        "\n",
        "def display_menu():\n",
        "    print(\"****** Menu ******\")\n",
        "    for index, item in enumerate(menu_items):\n",
        "        print(index + 1, \".\", item)\n",
        "\n",
        "def add_item():\n",
        "    item = input(\"Enter the name of the item: \")\n",
        "    menu_items.append(item)\n",
        "    print(\"Item added:\", item)\n",
        "\n",
        "def remove_item():\n",
        "    display_menu()\n",
        "    item_index = int(input(\"Enter the number of the item: \")) - 1\n",
        "    item = menu_items.pop(item_index)\n",
        "    print(\"Item removed:\", item)\n",
        "\n",
        "while True:\n",
        "    choice = menu()\n",
        "    if choice == 1:\n",
        "        display_menu()\n",
        "    elif choice == 2:\n",
        "        add_item()\n",
        "    elif choice == 3:\n",
        "        remove_item()\n",
        "    elif choice == 4:\n",
        "        break\n",
        "    else:\n",
        "        print(\"Invalid choice. Please try again.\")\n",
        "\n",
        "print(\"Thank you for using the menu selection program.\")"
      ],
      "metadata": {
        "id": "iHWR21gQzPam"
      },
      "execution_count": null,
      "outputs": []
    }
  ]
}